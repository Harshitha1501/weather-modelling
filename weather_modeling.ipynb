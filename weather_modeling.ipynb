{
  "nbformat": 4,
  "nbformat_minor": 0,
  "metadata": {
    "colab": {
      "provenance": [],
      "authorship_tag": "ABX9TyMv2Kkb7XRyS/02XV50sO9/",
      "include_colab_link": true
    },
    "kernelspec": {
      "name": "python3",
      "display_name": "Python 3"
    },
    "language_info": {
      "name": "python"
    }
  },
  "cells": [
    {
      "cell_type": "markdown",
      "metadata": {
        "id": "view-in-github",
        "colab_type": "text"
      },
      "source": [
        "<a href=\"https://colab.research.google.com/github/Harshitha1501/weather-modelling/blob/main/weather_modeling.ipynb\" target=\"_parent\"><img src=\"https://colab.research.google.com/assets/colab-badge.svg\" alt=\"Open In Colab\"/></a>"
      ]
    },
    {
      "cell_type": "code",
      "execution_count": null,
      "metadata": {
        "colab": {
          "base_uri": "https://localhost:8080/"
        },
        "id": "WxRp_YJWLQIp",
        "outputId": "d64b05c0-911e-49da-d164-945d9c298307"
      },
      "outputs": [
        {
          "output_type": "stream",
          "name": "stdout",
          "text": [
            "the Temperature at time 4 is 27\n"
          ]
        }
      ],
      "source": [
        "#Evaluation Function :\n",
        "\n",
        "def Temperature_modeling(a,b,c,time):\n",
        "  temp  = a*time**2+b*time+c\n",
        "  return temp\n",
        "# Version 1: Hardcoding the variables:\n",
        "\n",
        "a=1\n",
        "b=2\n",
        "c=3\n",
        "time = 4\n",
        "temp = Temperature_modeling(a,b,c,time)\n",
        "print(f\"the Temperature at time {time} is {temp}\")\n"
      ]
    },
    {
      "cell_type": "code",
      "source": [
        "# Version 2 : Keyboard Input:\n",
        "temp = Temperature_modeling(float(input('Enter a:')),float(input('Enter b:')),float(input('Enter c:')),int(input('Enter Time:')))\n",
        "print(f\"the Temperature at time {time} is {temp}\")"
      ],
      "metadata": {
        "colab": {
          "base_uri": "https://localhost:8080/"
        },
        "id": "tnVTSL8AQw35",
        "outputId": "6059004a-468f-49a0-9811-cf0621ec07f4"
      },
      "execution_count": null,
      "outputs": [
        {
          "output_type": "stream",
          "name": "stdout",
          "text": [
            "Enter a:4\n",
            "Enter b:5\n",
            "Enter c:6\n",
            "Enter Time:2\n",
            "the Temperature at time 4 is 32.0\n"
          ]
        }
      ]
    },
    {
      "cell_type": "code",
      "source": [
        "# Create and write data to the file\n",
        "with open('whether_single.txt', 'w') as f:\n",
        "    f.write(\"1.2 2.4 3.6 5\")"
      ],
      "metadata": {
        "id": "c1ORYrDeUen9"
      },
      "execution_count": null,
      "outputs": []
    },
    {
      "cell_type": "code",
      "source": [
        "# Version 3: Single Input from the text file:\n",
        "with open('whether_single.txt','r') as files:\n",
        "  file = files.readline();\n",
        "  a,b,c,time = file.split()\n",
        "  a = float(a)\n",
        "  b= float(b)\n",
        "  c = float(c)\n",
        "  time = int(time)\n",
        "  temp = Temperature_modeling(a,b,c,time)\n",
        "  print(f'The Temperature at time {time} is {temp}')"
      ],
      "metadata": {
        "colab": {
          "base_uri": "https://localhost:8080/"
        },
        "id": "1_aYbolhRA9_",
        "outputId": "fd4b0d14-91fa-4c2d-a4d7-0418a2e71789"
      },
      "execution_count": null,
      "outputs": [
        {
          "output_type": "stream",
          "name": "stdout",
          "text": [
            "The Temperature at time 5 is 45.6\n"
          ]
        }
      ]
    },
    {
      "cell_type": "code",
      "source": [
        "# Step 1: Create the file with multiple lines of input\n",
        "with open('whether_multiple.txt', 'w') as f:\n",
        "    f.write(\"1.0 2.0 3.0 2\\n\")\n",
        "    f.write(\"0.5 1.5 2.5 4\\n\")\n",
        "    f.write(\"2.0 0.0 1.0 3\\n\")"
      ],
      "metadata": {
        "id": "IPYvMshOUjC9"
      },
      "execution_count": null,
      "outputs": []
    },
    {
      "cell_type": "code",
      "source": [
        "# Version 4: Multiple Input from the text file\n",
        "with open('whether_multiple.txt','r') as files:\n",
        "  for file in files:\n",
        "    a,b,c,time = file.strip().split()\n",
        "    a = float(a)\n",
        "    b=float(b)\n",
        "    c = float(c)\n",
        "    time = int(time)\n",
        "\n",
        "    temp = Temperature_modeling(a,b,c,time)\n",
        "    print(f'The Temperature at time {time} is {temp}')\n"
      ],
      "metadata": {
        "colab": {
          "base_uri": "https://localhost:8080/"
        },
        "id": "UKSunN9bRVmx",
        "outputId": "db476706-6809-4348-8f48-5c7492c09da6"
      },
      "execution_count": null,
      "outputs": [
        {
          "output_type": "stream",
          "name": "stdout",
          "text": [
            "The Temperature at time 2 is 11.0\n",
            "The Temperature at time 4 is 16.5\n",
            "The Temperature at time 3 is 19.0\n"
          ]
        }
      ]
    }
  ]
}